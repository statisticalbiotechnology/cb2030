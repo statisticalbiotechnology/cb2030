{
 "cells": [
  {
   "cell_type": "markdown",
   "metadata": {},
   "source": [
    "Here we simulate data from measurements of two higly covariating variables, patients heigth as measured in in cm and inch. We subequently run a PCA on the data."
   ]
  },
  {
   "cell_type": "code",
   "execution_count": null,
   "metadata": {},
   "outputs": [],
   "source": [
    "import matplotlib.pyplot as plt\n",
    "import numpy as np\n",
    "\n",
    "# Generate random data around a line\n",
    "np.random.seed(0)\n",
    "x = np.random.rand(100) * 45 + 150\n",
    "y = x/2.54 + np.random.randn(100) * 2\n",
    "\n",
    "# Perform PCA on the data\n",
    "from sklearn.decomposition import PCA\n",
    "data = np.vstack((x, y)).T\n",
    "pca = PCA(n_components=2)\n",
    "pca.fit(data)\n",
    "components = pca.components_\n",
    "mean = pca.mean_\n",
    "\n",
    "# Plot the original data\n",
    "plt.figure(figsize=(10, 6))\n",
    "plt.scatter(x, y, alpha=0.5, label='Data')\n",
    "plt.xlabel('Height in cm')\n",
    "plt.xlim(140, 200)\n",
    "plt.ylabel('Height in inches')\n",
    "plt.ylim(50, 90)\n",
    "\n",
    "# Plot the principal components\n",
    "for i, (comp, var) in enumerate(zip(components, pca.explained_variance_)):\n",
    "    comp = comp * var  # Scale component by its variance explanation power\n",
    "    plt.plot([mean[0] - comp[0], mean[0] + comp[0]], [mean[1] - comp[1], mean[1] + comp[1]], label=f'EigenPatient{i+1}')\n",
    "    # plt.text(mean[0] + comp[0], mean[1] + comp[1], f'EigenPatient{i+1}', fontsize=12, va='center')\n",
    "\n",
    "# Plot settings\n",
    "plt.legend()\n",
    "plt.grid(True)\n"
   ]
  },
  {
   "cell_type": "markdown",
   "metadata": {},
   "source": [
    "Can ve retrive the ratio between inch and cm from the eigenmeasurements? Yes, at least approximately."
   ]
  },
  {
   "cell_type": "code",
   "execution_count": null,
   "metadata": {},
   "outputs": [],
   "source": [
    "components[0]/components[0][1]"
   ]
  }
 ],
 "metadata": {
  "kernelspec": {
   "display_name": "cb2030",
   "language": "python",
   "name": "python3"
  },
  "language_info": {
   "codemirror_mode": {
    "name": "ipython",
    "version": 3
   },
   "file_extension": ".py",
   "mimetype": "text/x-python",
   "name": "python",
   "nbconvert_exporter": "python",
   "pygments_lexer": "ipython3",
   "version": "3.10.13"
  }
 },
 "nbformat": 4,
 "nbformat_minor": 2
}
