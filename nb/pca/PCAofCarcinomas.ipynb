{
 "cells": [
  {
   "cell_type": "markdown",
   "metadata": {},
   "source": [
    "## PCA analysis of two lung cancer sets\n",
    "\n",
    "[![Binder](https://mybinder.org/badge_logo.svg)](https://mybinder.org/v2/gh/statisticalbiotechnology/cb2030/master?filepath=nb%2Fpca%2FPCAofCarcinomas.ipynb) or [![CoLab](https://colab.research.google.com/assets/colab-badge.svg)](https://colab.research.google.com/github/statisticalbiotechnology/cb2030/blob/master/nb/pca/PCAofCarcinomas.ipynb)\n",
    "\n",
    "\n",
    "\n",
    "Here we are perfoming a PCA of two different datasets within the TCGA. We will first merge the two datasets and subsequently try to separate the samples based on their principal components.\n",
    "\n",
    "First we retrieve our two TCGA lungcancer data from cbioportal.org. One of the sets are from [Lung Adenocarcinomas](https://en.wikipedia.org/wiki/Adenocarcinoma_of_the_lung) and the other is from [Lung Squamous Cell Carcinomas](https://en.wikipedia.org/wiki/Squamous-cell_carcinoma_of_the_lung). The code for the retrieval of this data set is not important for the understanding of the analysis, but can be found in the module tcga_read. Execute the code and proceed to next step."
   ]
  },
  {
   "cell_type": "code",
   "execution_count": null,
   "metadata": {},
   "outputs": [],
   "source": [
    "import pandas as pd\n",
    "import seaborn as sns\n",
    "import numpy as np\n",
    "import sys\n",
    "IN_COLAB = 'google.colab' in sys.modules\n",
    "if IN_COLAB:\n",
    "    ![ ! -f \"cb2030/README.md\" ] && git clone https://github.com/statisticalbiotechnology/cb2030.git\n",
    "    my_path = \"cb2030/nb/\"\n",
    "else:\n",
    "    my_path = \"../\"\n",
    "sys.path.append(my_path) # Read local modules for tcga access and qvalue calculations\n",
    "\n",
    "import tcga_read as tcga\n",
    "\n",
    "luad = tcga.get_expression_data(my_path + \"../data/luad.tsv.gz\", 'https://cbioportal-datahub.s3.amazonaws.com/luad_tcga_pan_can_atlas_2018.tar.gz',\"data_RNA_Seq_v2_expression_median.txt\")\n",
    "lusc = tcga.get_expression_data(my_path + \"../data/lusc.tsv.gz\", 'https://cbioportal-datahub.s3.amazonaws.com/lusc_tcga_pan_can_atlas_2018.tar.gz',\"data_RNA_Seq_v2_expression_median.txt\")"
   ]
  },
  {
   "cell_type": "markdown",
   "metadata": {},
   "source": [
    "We now merge the datasets, and see too that we only include transcripts that are measured in all the carcinomas with an count larger than 0."
   ]
  },
  {
   "cell_type": "code",
   "execution_count": null,
   "metadata": {},
   "outputs": [],
   "source": [
    "combined = pd.concat([lusc, luad], axis=1, sort=False)\n",
    "combined.dropna(axis=0, how='any', inplace=True)\n",
    "combined = combined.loc[~(combined<=0.0).any(axis=1)]\n",
    "combined = pd.DataFrame(data=np.log2(combined),index=combined.index,columns=combined.columns)"
   ]
  },
  {
   "cell_type": "markdown",
   "metadata": {},
   "source": [
    "Make a PCA with a SVD. This involves first removing the mean values (Xm) of each gene from the expression matrix before doing the PCA. "
   ]
  },
  {
   "cell_type": "code",
   "execution_count": null,
   "metadata": {},
   "outputs": [],
   "source": [
    "from numpy.linalg import svd\n",
    "X = combined.values\n",
    "Xm = np.tile(np.mean(X, axis=1)[np.newaxis].T, (1,X.shape[1]))\n",
    "U,S,Vt = svd(X-Xm, full_matrices=False, compute_uv=True)\n"
   ]
  },
  {
   "cell_type": "markdown",
   "metadata": {},
   "source": [
    "First we can analyze the amount of variance explained for the first 10 components. The first components seem to explain about 30% of the variance. That is quite a lot of unexplained variance, however, the components after that seem to contribute relative little. Lets stay with the first two components. "
   ]
  },
  {
   "cell_type": "code",
   "execution_count": null,
   "metadata": {},
   "outputs": [],
   "source": [
    "import matplotlib.pyplot as plt\n",
    "S2=S*S\n",
    "expl_var = np.cumsum(S2/sum(S2))\n",
    "ax = sns.barplot(y=list(expl_var)[:10],x=list(range(1,11)))\n",
    "ax.set(xlabel='Number of components', ylabel='Cumulative explained variance');"
   ]
  },
  {
   "cell_type": "markdown",
   "metadata": {},
   "source": [
    "First we plot the Eigen genes. These illustrate the linear combinations of genes that explains the variance of the genes. First one describes the most, the second explains most of the variance when the variance of the first gene-compination is removed. Here we only explore the first two component, but one could plot the other ones as well. "
   ]
  },
  {
   "cell_type": "code",
   "execution_count": null,
   "metadata": {},
   "outputs": [],
   "source": [
    "transformed_patients = pd.DataFrame(data=Vt[0:2,:].T,columns=[\"Eigen gene 1\",\"Eigen gene 2\"],index=list(lusc.columns) + list(luad.columns))\n",
    "transformed_patients[\"Set\"]= ([\"LUSC\" for _ in lusc.columns]+[\"LUAD\" for _ in luad.columns])\n",
    "\n",
    "sns.set(rc={'figure.figsize':(10,10)})\n",
    "sns.set_style(\"white\")\n",
    "#sns.set_context(\"talk\")\n",
    "\n",
    "sns.lmplot(x=\"Eigen gene 1\",y=\"Eigen gene 2\", hue='Set', data=transformed_patients, fit_reg=False)"
   ]
  },
  {
   "cell_type": "markdown",
   "metadata": {},
   "source": [
    "Here we see a non-complet separation of the patients based on their two first eigengenes. This means that the patients gene expression differ and that diference is covered by the first two principal components.\n",
    "\n",
    "Lets explore which genes that are most reponsible for that difference. We can do so by investigating their Eigen patients."
   ]
  },
  {
   "cell_type": "code",
   "execution_count": null,
   "metadata": {},
   "outputs": [],
   "source": [
    "transformed_genes=pd.DataFrame(data=U[:,0:2], index = combined.index, columns = [\"Eigen patient 1\",\"Eigen patient 2\"])\n",
    "sns.lmplot(x=\"Eigen patient 1\", y=\"Eigen patient 2\", data=transformed_genes, fit_reg=False)"
   ]
  },
  {
   "cell_type": "markdown",
   "metadata": {},
   "source": [
    "The genes pointing in a positive direction for the two components are:"
   ]
  },
  {
   "cell_type": "code",
   "execution_count": null,
   "metadata": {},
   "outputs": [],
   "source": [
    "transformed_genes.idxmax(axis=0)"
   ]
  },
  {
   "cell_type": "markdown",
   "metadata": {},
   "source": [
    "The genes pointing in a negative direction for the two components are:"
   ]
  },
  {
   "cell_type": "code",
   "execution_count": null,
   "metadata": {},
   "outputs": [],
   "source": [
    "transformed_genes.idxmin(axis=0)"
   ]
  },
  {
   "cell_type": "markdown",
   "metadata": {},
   "source": [
    "KRT17 seems to be important for both eigen patient 1 and 2. This is possible since [KRT17](https://www.proteinatlas.org/ENSG00000128422-KRT17/pathology) is a known cancer related gene. At this point of the analysis, it is not fully clear what the biological interpretation of PC2 is.  From the eigen gene plot, it is however clear that PC1 seem to capture the difference beween LUAD and LUSC."
   ]
  },
  {
   "cell_type": "code",
   "execution_count": null,
   "metadata": {},
   "outputs": [],
   "source": []
  }
 ],
 "metadata": {
  "kernelspec": {
   "display_name": "Python 3.9.13 ('cb2030')",
   "language": "python",
   "name": "python3"
  },
  "language_info": {
   "codemirror_mode": {
    "name": "ipython",
    "version": 3
   },
   "file_extension": ".py",
   "mimetype": "text/x-python",
   "name": "python",
   "nbconvert_exporter": "python",
   "pygments_lexer": "ipython3",
   "version": "3.10.13"
  },
  "vscode": {
   "interpreter": {
    "hash": "68b742a0b114496fffed3c32369b95732defb3d2854595a16ab826510a322508"
   }
  }
 },
 "nbformat": 4,
 "nbformat_minor": 4
}
