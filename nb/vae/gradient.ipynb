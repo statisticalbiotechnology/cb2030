{
  "cells": [
    {
      "cell_type": "code",
      "execution_count": null,
      "metadata": {
        "id": "LLriwgM_qz2t"
      },
      "outputs": [],
      "source": [
        "import jax.numpy as jnp\n",
        "from jax import grad"
      ]
    },
    {
      "cell_type": "markdown",
      "metadata": {},
      "source": [
        "## Derivatives of functions\n",
        "\n",
        "Python have a capability to calculate derivates of any function. Here we illustrate this by calculating the derivate of a polynomial, but the functionality is more generic than so.\n",
        "\n",
        "$f(x) = X^3+2x^2-3x+1$    \n",
        "$f'(x) = 3x^2+4x-3$\n"
      ]
    },
    {
      "cell_type": "markdown",
      "metadata": {},
      "source": [
        "Run through this [link](https://colab.research.google.com/github/statisticalbiotechnology/cb2030/blob/master/nb/vae/gradient.ipynb)"
      ]
    },
    {
      "cell_type": "code",
      "execution_count": null,
      "metadata": {
        "id": "yhRBjMherE1I"
      },
      "outputs": [],
      "source": [
        "f = lambda x: x**3 + 2*x**2 - 3*x + 1 \n",
        "grad_f = grad(f)"
      ]
    },
    {
      "cell_type": "markdown",
      "metadata": {},
      "source": [
        "Lets evaluate the rendered function for $x=1$, i.e. $f'(1.0)$"
      ]
    },
    {
      "cell_type": "code",
      "execution_count": null,
      "metadata": {
        "colab": {
          "base_uri": "https://localhost:8080/"
        },
        "id": "huIMFLcqtArb",
        "outputId": "766cfde8-071f-4cde-c962-236dfb9a09eb"
      },
      "outputs": [],
      "source": [
        "print(grad_f(1.))\n"
      ]
    }
  ],
  "metadata": {
    "colab": {
      "provenance": []
    },
    "kernelspec": {
      "display_name": "Python 3",
      "name": "python3"
    },
    "language_info": {
      "codemirror_mode": {
        "name": "ipython",
        "version": 3
      },
      "file_extension": ".py",
      "mimetype": "text/x-python",
      "name": "python",
      "nbconvert_exporter": "python",
      "pygments_lexer": "ipython3",
      "version": "3.10.13"
    }
  },
  "nbformat": 4,
  "nbformat_minor": 0
}
