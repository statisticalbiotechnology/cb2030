{
 "cells": [
  {
   "cell_type": "markdown",
   "metadata": {
    "id": "uwlylH9QdZIo"
   },
   "source": [
    "## VAE analysis of two lung cancer sets\n",
    "\n",
    "This notebook can be run locally or on a remote cloud computer by clicking the badge below:\n",
    "\n",
    "[![Binder](https://mybinder.org/badge_logo.svg)](https://mybinder.org/v2/gh/statisticalbiotechnology/cb2030/master?filepath=nb%2Fvae%2FVAEofCarcinomas.ipynb) or [![CoLab](https://colab.research.google.com/assets/colab-badge.svg)](https://colab.research.google.com/github/statisticalbiotechnology/cb2030/blob/master/nb/vae/VAEofCarcinomas.ipynb)\n",
    "\n",
    "Here we training a VAE of two different datasets within the TCGA. We will first merge the two datasets and subsequently try to separate the samples based on their latent variables. This is made in analogue with the notebook on PCA.\n",
    "\n",
    "First we retrieve our two TCGA lungcancer data from cbioportal.org. One of the sets are from [Lung Adenocarcinomas](https://en.wikipedia.org/wiki/Adenocarcinoma_of_the_lung) and the other is from [Lung Squamous Cell Carcinomas](https://en.wikipedia.org/wiki/Squamous-cell_carcinoma_of_the_lung). We first load our dataset."
   ]
  },
  {
   "cell_type": "code",
   "execution_count": 1,
   "metadata": {
    "colab": {
     "base_uri": "https://localhost:8080/",
     "height": 1000
    },
    "executionInfo": {
     "elapsed": 727,
     "status": "error",
     "timestamp": 1666273721193,
     "user": {
      "displayName": "Lukas Käll",
      "userId": "12032005584020165009"
     },
     "user_tz": -120
    },
    "id": "GA9iY-NndZIt",
    "outputId": "76b6afa9-5c2b-4ff8-f151-cb562396e212"
   },
   "outputs": [],
   "source": [
    "import pandas as pd\n",
    "import matplotlib.pyplot as plt\n",
    "import seaborn as sns\n",
    "import numpy as np\n",
    "import sys\n",
    "IN_COLAB = 'google.colab' in sys.modules\n",
    "if IN_COLAB:\n",
    "    ![ ! -f \"cb2030/README.md\" ] && git clone https://github.com/statisticalbiotechnology/cb2030.git\n",
    "    my_path = \"cb2030/nb/\"\n",
    "else:\n",
    "    my_path = \"../\"\n",
    "sys.path.append(my_path) # Read local modules for tcga access and qvalue calculations\n",
    "\n",
    "import tcga_read as tcga\n",
    "\n",
    "luad = tcga.get_expression_data(my_path + \"../data/luad.tsv.gz\", 'https://cbioportal-datahub.s3.amazonaws.com/luad_tcga_pan_can_atlas_2018.tar.gz',\"data_RNA_Seq_v2_expression_median.txt\")\n",
    "lusc = tcga.get_expression_data(my_path + \"../data/lusc.tsv.gz\", 'https://cbioportal-datahub.s3.amazonaws.com/lusc_tcga_pan_can_atlas_2018.tar.gz',\"data_RNA_Seq_v2_expression_median.txt\")"
   ]
  },
  {
   "cell_type": "markdown",
   "metadata": {
    "id": "O4HT7jtTdZIv"
   },
   "source": [
    "We now merge the datasets, and see too that we only include transcripts that are measured in all the carcinomas with an count larger than 0. Further we scale the measurements so that every gene expression value is scaled between 0 and 1, using sk-learns [MinMaxScaler()](https://scikit-learn.org/stable/modules/generated/sklearn.preprocessing.MinMaxScaler.html)."
   ]
  },
  {
   "cell_type": "code",
   "execution_count": 2,
   "metadata": {
    "id": "nTGtXhUgdZIw"
   },
   "outputs": [],
   "source": [
    "from sklearn.preprocessing import MinMaxScaler\n",
    "scaler = MinMaxScaler()\n",
    "combined = pd.concat([lusc, luad], axis=1, sort=False)\n",
    "combined.dropna(axis=0, how='any', inplace=True)\n",
    "combined = combined.loc[~(combined<=0.0).any(axis=1)]\n",
    "X=scaler.fit_transform(np.log2(combined).T).T\n",
    "combined = pd.DataFrame(data=X,index=combined.index,columns=combined.columns)"
   ]
  },
  {
   "cell_type": "markdown",
   "metadata": {
    "id": "OgRZHdghdZIw"
   },
   "source": [
    "We are setting up an istance of a machine learning framework, [PyTorch](https://en.wikipedia.org/wiki/PyTorch). It will help us fitting the needed neural network."
   ]
  },
  {
   "cell_type": "code",
   "execution_count": 3,
   "metadata": {
    "id": "CIY4kACMdZIx"
   },
   "outputs": [],
   "source": [
    "import torch\n",
    "from torch import nn, optim\n",
    "from torch.utils.data import DataLoader, Dataset\n",
    "import torch.utils.data\n",
    "from torch.nn import functional as F\n",
    "from torchvision import datasets, transforms\n",
    "\n",
    "\n",
    "import numpy as np\n",
    "\n",
    "from tqdm import tqdm\n",
    "from torchvision.utils import make_grid\n",
    "\n",
    "## We use a GPU and hence need cuda, https://en.wikipedia.org/wiki/CUDA\n",
    "no_cuda = False\n",
    "\n",
    "## Some arbitrarly selected training parameters\n",
    "batch_size, lr, epochs, log_interval = 128, 1e-3, 1000, 100\n",
    "\n",
    "## Some parameters governing the architecture.\n",
    "hidden_dim, latent_dim = 64, 2\n",
    "\n",
    "use_cuda = not no_cuda and torch.cuda.is_available()\n",
    "\n",
    "torch.manual_seed(4711)\n",
    "\n",
    "if use_cuda:\n",
    "    device = torch.device(\"cuda\")\n",
    "else:\n",
    "    device = torch.device(\"cpu\")\n",
    "\n",
    "kwargs = {'num_workers': 1, 'pin_memory': True} if use_cuda else {}\n"
   ]
  },
  {
   "cell_type": "markdown",
   "metadata": {},
   "source": [
    "When training a network on a GPU, we need a special data loader that can transfer the data to the GPU."
   ]
  },
  {
   "cell_type": "code",
   "execution_count": 4,
   "metadata": {
    "id": "-kzuplUgj3Es"
   },
   "outputs": [
    {
     "name": "stdout",
     "output_type": "stream",
     "text": [
      "tensor([[0.7966, 0.7539, 0.5268,  ..., 0.4000, 0.1724, 0.3890],\n",
      "        [0.4545, 0.6363, 0.5624,  ..., 0.6170, 0.5138, 0.4735],\n",
      "        [0.0000, 0.7093, 0.6046,  ..., 0.0454, 0.4523, 0.3972],\n",
      "        ...,\n",
      "        [0.6600, 0.5818, 0.4055,  ..., 0.4112, 0.7615, 0.2131],\n",
      "        [0.6401, 0.1870, 0.6983,  ..., 0.6335, 0.7845, 0.2495],\n",
      "        [0.5654, 0.6486, 0.8129,  ..., 0.6818, 0.7986, 0.2701]])\n"
     ]
    }
   ],
   "source": [
    "class ExpressionDataset(Dataset):\n",
    "    def __init__(self, datapoints, labels):\n",
    "        self.x_dim = datapoints.shape[0]\n",
    "        self.datapoints = torch.tensor(datapoints.to_numpy().T, dtype=torch.float32)\n",
    "        print(self.datapoints)\n",
    "        self.labels = torch.tensor(labels, dtype=torch.float32)\n",
    "\n",
    "    def __len__(self):\n",
    "        return len(self.labels)\n",
    "\n",
    "    def __getitem__(self, idx):\n",
    "        return self.datapoints[idx],self.labels[idx]\n",
    "\n",
    "train_dataset = ExpressionDataset(combined,([1.0 for _ in lusc.columns]+[ 0.0 for _ in luad.columns]))\n",
    "#train_dataset = ExpressionDataset(combined,([\"LUSC\" for _ in lusc.columns]+[\"LUAD\" for _ in luad.columns]))\n",
    "#test_dataset  = MNIST(dataset_path, transform=mnist_transform, train=False, download=True)\n",
    "\n",
    "train_loader = DataLoader(dataset=train_dataset, batch_size=batch_size, shuffle=True, **kwargs)\n",
    "test_loader  = DataLoader(dataset=train_dataset, batch_size=batch_size, shuffle=False, **kwargs)\n",
    "x_dim  = train_dataset.x_dim"
   ]
  },
  {
   "cell_type": "markdown",
   "metadata": {},
   "source": [
    "Now we design the VAE. We use an architecure where 13046 features are first throtteled down to 64 features (fc1) then to 2 features, which we predict both mean and variance for (fc21 and fc22).   \n",
    "\n",
    "We reparametrize those 2 variables, and then expand them to 64 (fc3) and 13046 (fc4) features.\n",
    "![](img/nn.svg)\n"
   ]
  },
  {
   "cell_type": "code",
   "execution_count": 5,
   "metadata": {},
   "outputs": [],
   "source": [
    "class VAE(nn.Module):\n",
    "    def __init__(self):\n",
    "        super(VAE, self).__init__()\n",
    "\n",
    "        self.fc1 = nn.Linear(x_dim, hidden_dim)       # Input layer of encoder\n",
    "        self.fc21 = nn.Linear(hidden_dim, latent_dim) # Output layer (mean)\n",
    "        self.fc22 = nn.Linear(hidden_dim, latent_dim) # Output layer (stdv)\n",
    "        self.fc3 = nn.Linear(latent_dim, hidden_dim)  # Input layer of decoder\n",
    "        self.fc4 = nn.Linear(hidden_dim, x_dim)       # Output layer of decoder\n",
    "\n",
    "    def encode(self, x):\n",
    "        h1 = F.relu(self.fc1(x))\n",
    "        return self.fc21(h1), self.fc22(h1)\n",
    "\n",
    "    def reparameterize(self, mu, logvar):\n",
    "        std = torch.exp(0.5*logvar)         # Dividing a logged value by two results in the log of the sqrt of the value \n",
    "        eps = torch.randn_like(std)\n",
    "        return mu + eps*std\n",
    "\n",
    "    def decode(self, z):\n",
    "        h3 = F.relu(self.fc3(z))\n",
    "        out = torch.sigmoid(self.fc4(h3))\n",
    "        return out\n",
    "\n",
    "    def forward(self, x):\n",
    "        mu, logvar = self.encode(x.view(-1, x_dim))\n",
    "        z = self.reparameterize(mu, logvar)\n",
    "        return self.decode(z), mu, logvar\n"
   ]
  },
  {
   "cell_type": "markdown",
   "metadata": {},
   "source": [
    "Next, we next select a gradient descent optimizer, [Adam](https://en.wikipedia.org/wiki/Stochastic_gradient_descent#Adam), and select a fuction to optimize, the loss_function, and we define a train and test procedure to use."
   ]
  },
  {
   "cell_type": "code",
   "execution_count": 6,
   "metadata": {},
   "outputs": [],
   "source": [
    "model = VAE().to(device)\n",
    "optimizer = optim.Adam(model.parameters(), lr=lr)\n",
    "\n",
    "\n",
    "# Reconstruction + KL divergence losses summed over all elements and batch\n",
    "def loss_function(recon_x, x, mu, logvar):\n",
    "    BCE = F.binary_cross_entropy(recon_x, x.view(-1, x_dim), reduction='sum')\n",
    "\n",
    "    # see Appendix B from VAE paper:\n",
    "    # Kingma and Welling. Auto-Encoding Variational Bayes. ICLR, 2014\n",
    "    # https://arxiv.org/abs/1312.6114\n",
    "    # Calculating the Kullback–Leibler divergence\n",
    "    # 0.5 * sum(1 + log(sigma^2) - mu^2 - sigma^2)\n",
    "    KLD = -0.5 * torch.sum(1 + logvar - mu.pow(2) - logvar.exp())\n",
    "    #print(f\"BCE={BCE}, KLD={KLD}\")\n",
    "    return BCE + KLD\n",
    "\n",
    "\n",
    "def train(epoch):\n",
    "    model.train()\n",
    "    train_loss = 0\n",
    "    for batch_idx, (data, _) in enumerate(train_loader):\n",
    "        data = data.to(device)\n",
    "        optimizer.zero_grad()\n",
    "        recon_batch, mu, logvar = model(data)\n",
    "        loss = loss_function(recon_batch, data, mu, logvar)\n",
    "        loss.backward()\n",
    "        train_loss += loss.item()\n",
    "        optimizer.step()\n",
    "        if epoch % log_interval == 0:\n",
    "            print('Train Epoch: {} [{}/{} ({:.0f}%)]\\tLoss: {:.6f}'.format(\n",
    "                epoch, batch_idx * len(data), len(train_loader.dataset),\n",
    "                100. * batch_idx / len(train_loader),\n",
    "                loss.item() / len(data)))\n",
    "    if epoch % log_interval == 0:\n",
    "        print('====> Epoch: {} Average loss: {:.4f}'.format(\n",
    "          epoch, train_loss / len(train_loader.dataset)))\n",
    "\n",
    "\n",
    "def test(epoch):\n",
    "    model.eval()\n",
    "    test_loss = 0\n",
    "    with torch.no_grad():\n",
    "        for i, (data, _) in enumerate(test_loader):\n",
    "#        for i, (data, _) in enumerate(train_loader):\n",
    "            data = data.to(device)\n",
    "            recon_batch, mu, logvar = model(data)\n",
    "            test_loss += loss_function(recon_batch, data, mu, logvar).item()\n",
    "    if epoch % log_interval == 0:\n",
    "        test_loss /= len(test_loader.dataset)\n",
    "        print('====> Test set loss: {:.4f}'.format(test_loss))\n"
   ]
  },
  {
   "cell_type": "markdown",
   "metadata": {},
   "source": [
    "Now we are set to run the procedure for 1000 epochs."
   ]
  },
  {
   "cell_type": "code",
   "execution_count": 7,
   "metadata": {},
   "outputs": [
    {
     "name": "stdout",
     "output_type": "stream",
     "text": [
      "Train Epoch: 100 [0/994 (0%)]\tLoss: 8676.635742\n",
      "Train Epoch: 100 [128/994 (12%)]\tLoss: 8669.390625\n",
      "Train Epoch: 100 [256/994 (25%)]\tLoss: 8696.019531\n",
      "Train Epoch: 100 [384/994 (38%)]\tLoss: 8682.718750\n",
      "Train Epoch: 100 [512/994 (50%)]\tLoss: 8680.566406\n",
      "Train Epoch: 100 [640/994 (62%)]\tLoss: 8679.761719\n",
      "Train Epoch: 100 [768/994 (75%)]\tLoss: 8684.580078\n",
      "Train Epoch: 100 [686/994 (88%)]\tLoss: 8685.045281\n",
      "====> Epoch: 100 Average loss: 8681.7430\n",
      "Train Epoch: 200 [0/994 (0%)]\tLoss: 8648.874023\n",
      "Train Epoch: 200 [128/994 (12%)]\tLoss: 8673.542969\n",
      "Train Epoch: 200 [256/994 (25%)]\tLoss: 8666.938477\n",
      "Train Epoch: 200 [384/994 (38%)]\tLoss: 8671.108398\n",
      "Train Epoch: 200 [512/994 (50%)]\tLoss: 8673.667969\n",
      "Train Epoch: 200 [640/994 (62%)]\tLoss: 8688.653320\n",
      "Train Epoch: 200 [768/994 (75%)]\tLoss: 8674.257812\n",
      "Train Epoch: 200 [686/994 (88%)]\tLoss: 8692.939413\n",
      "====> Epoch: 200 Average loss: 8673.1686\n",
      "Train Epoch: 300 [0/994 (0%)]\tLoss: 8669.484375\n",
      "Train Epoch: 300 [128/994 (12%)]\tLoss: 8680.239258\n",
      "Train Epoch: 300 [256/994 (25%)]\tLoss: 8671.940430\n",
      "Train Epoch: 300 [384/994 (38%)]\tLoss: 8650.389648\n",
      "Train Epoch: 300 [512/994 (50%)]\tLoss: 8656.575195\n",
      "Train Epoch: 300 [640/994 (62%)]\tLoss: 8672.656250\n",
      "Train Epoch: 300 [768/994 (75%)]\tLoss: 8679.903320\n",
      "Train Epoch: 300 [686/994 (88%)]\tLoss: 8668.019770\n",
      "====> Epoch: 300 Average loss: 8668.6701\n",
      "Train Epoch: 400 [0/994 (0%)]\tLoss: 8667.084961\n",
      "Train Epoch: 400 [128/994 (12%)]\tLoss: 8669.493164\n",
      "Train Epoch: 400 [256/994 (25%)]\tLoss: 8664.226562\n",
      "Train Epoch: 400 [384/994 (38%)]\tLoss: 8656.431641\n",
      "Train Epoch: 400 [512/994 (50%)]\tLoss: 8644.052734\n",
      "Train Epoch: 400 [640/994 (62%)]\tLoss: 8658.249023\n",
      "Train Epoch: 400 [768/994 (75%)]\tLoss: 8658.610352\n",
      "Train Epoch: 400 [686/994 (88%)]\tLoss: 8663.061224\n",
      "====> Epoch: 400 Average loss: 8660.0634\n",
      "Train Epoch: 500 [0/994 (0%)]\tLoss: 8654.648438\n",
      "Train Epoch: 500 [128/994 (12%)]\tLoss: 8658.844727\n",
      "Train Epoch: 500 [256/994 (25%)]\tLoss: 8667.272461\n",
      "Train Epoch: 500 [384/994 (38%)]\tLoss: 8640.281250\n",
      "Train Epoch: 500 [512/994 (50%)]\tLoss: 8667.855469\n",
      "Train Epoch: 500 [640/994 (62%)]\tLoss: 8648.792969\n",
      "Train Epoch: 500 [768/994 (75%)]\tLoss: 8667.072266\n",
      "Train Epoch: 500 [686/994 (88%)]\tLoss: 8649.193878\n",
      "====> Epoch: 500 Average loss: 8656.9731\n",
      "Train Epoch: 600 [0/994 (0%)]\tLoss: 8649.583984\n",
      "Train Epoch: 600 [128/994 (12%)]\tLoss: 8668.446289\n",
      "Train Epoch: 600 [256/994 (25%)]\tLoss: 8643.702148\n",
      "Train Epoch: 600 [384/994 (38%)]\tLoss: 8661.450195\n",
      "Train Epoch: 600 [512/994 (50%)]\tLoss: 8658.340820\n",
      "Train Epoch: 600 [640/994 (62%)]\tLoss: 8653.634766\n",
      "Train Epoch: 600 [768/994 (75%)]\tLoss: 8653.424805\n",
      "Train Epoch: 600 [686/994 (88%)]\tLoss: 8658.419005\n",
      "====> Epoch: 600 Average loss: 8655.7985\n",
      "Train Epoch: 700 [0/994 (0%)]\tLoss: 8658.766602\n",
      "Train Epoch: 700 [128/994 (12%)]\tLoss: 8645.222656\n",
      "Train Epoch: 700 [256/994 (25%)]\tLoss: 8645.305664\n",
      "Train Epoch: 700 [384/994 (38%)]\tLoss: 8657.674805\n",
      "Train Epoch: 700 [512/994 (50%)]\tLoss: 8650.646484\n",
      "Train Epoch: 700 [640/994 (62%)]\tLoss: 8671.873047\n",
      "Train Epoch: 700 [768/994 (75%)]\tLoss: 8669.627930\n",
      "Train Epoch: 700 [686/994 (88%)]\tLoss: 8640.704082\n",
      "====> Epoch: 700 Average loss: 8655.4085\n",
      "Train Epoch: 800 [0/994 (0%)]\tLoss: 8633.409180\n",
      "Train Epoch: 800 [128/994 (12%)]\tLoss: 8657.166992\n",
      "Train Epoch: 800 [256/994 (25%)]\tLoss: 8653.373047\n",
      "Train Epoch: 800 [384/994 (38%)]\tLoss: 8654.986328\n",
      "Train Epoch: 800 [512/994 (50%)]\tLoss: 8649.041992\n",
      "Train Epoch: 800 [640/994 (62%)]\tLoss: 8651.043945\n",
      "Train Epoch: 800 [768/994 (75%)]\tLoss: 8647.568359\n",
      "Train Epoch: 800 [686/994 (88%)]\tLoss: 8645.235332\n",
      "====> Epoch: 800 Average loss: 8649.0911\n",
      "Train Epoch: 900 [0/994 (0%)]\tLoss: 8646.662109\n",
      "Train Epoch: 900 [128/994 (12%)]\tLoss: 8654.410156\n",
      "Train Epoch: 900 [256/994 (25%)]\tLoss: 8659.023438\n",
      "Train Epoch: 900 [384/994 (38%)]\tLoss: 8637.955078\n",
      "Train Epoch: 900 [512/994 (50%)]\tLoss: 8658.897461\n",
      "Train Epoch: 900 [640/994 (62%)]\tLoss: 8654.553711\n",
      "Train Epoch: 900 [768/994 (75%)]\tLoss: 8646.388672\n",
      "Train Epoch: 900 [686/994 (88%)]\tLoss: 8653.072704\n",
      "====> Epoch: 900 Average loss: 8651.3190\n",
      "Train Epoch: 1000 [0/994 (0%)]\tLoss: 8648.646484\n",
      "Train Epoch: 1000 [128/994 (12%)]\tLoss: 8644.779297\n",
      "Train Epoch: 1000 [256/994 (25%)]\tLoss: 8653.877930\n",
      "Train Epoch: 1000 [384/994 (38%)]\tLoss: 8655.472656\n",
      "Train Epoch: 1000 [512/994 (50%)]\tLoss: 8632.571289\n",
      "Train Epoch: 1000 [640/994 (62%)]\tLoss: 8645.423828\n",
      "Train Epoch: 1000 [768/994 (75%)]\tLoss: 8643.354492\n",
      "Train Epoch: 1000 [686/994 (88%)]\tLoss: 8649.558673\n",
      "====> Epoch: 1000 Average loss: 8646.6246\n",
      "====> Test set loss: 8644.4149\n"
     ]
    }
   ],
   "source": [
    "for epoch in range(1, epochs + 1):\n",
    "    train(epoch)\n",
    "test(epoch)"
   ]
  },
  {
   "cell_type": "markdown",
   "metadata": {},
   "source": [
    "We have now trained our VAE. We can first evaluate it for the datapoints we trained it on, and get their embeddings in a vector, $y$."
   ]
  },
  {
   "cell_type": "code",
   "execution_count": 8,
   "metadata": {},
   "outputs": [
    {
     "name": "stderr",
     "output_type": "stream",
     "text": [
      "100%|█████████████████████████████████████████████| 8/8 [00:00<00:00, 91.32it/s]\n"
     ]
    }
   ],
   "source": [
    "model.eval()\n",
    "\n",
    "x_batch, z_batch, std_batch = [], [], []\n",
    "with torch.no_grad():\n",
    "    for batch_idx, (x, _) in enumerate(tqdm(test_loader)):\n",
    "        x = x.to(device)\n",
    "        \n",
    "        x_hat_, mean_, log_var = model(x)\n",
    "        x_batch.append(x_hat_.cpu().detach().numpy())\n",
    "        z_batch.append(mean_.cpu().detach().numpy())\n",
    "        std_batch.append(torch.exp(log_var*0.5).cpu().detach().numpy())\n",
    "\n",
    "x_hat = np.concatenate(x_batch, axis=0)\n",
    "z = np.concatenate(z_batch, axis=0)\n",
    "std = np.concatenate(std_batch, axis=0)"
   ]
  },
  {
   "cell_type": "markdown",
   "metadata": {
    "id": "CeKF0wIYdZIx"
   },
   "source": [
    "We can now use the embeddings to describe our data. Much like for the PCA we can use the embeddings to give a dimentionallity reduced description of each cancer's expression profile. "
   ]
  },
  {
   "cell_type": "code",
   "execution_count": 9,
   "metadata": {
    "id": "rvnYbO2ZdZIy",
    "outputId": "fe7bfe90-fc1c-4b22-ce28-82887e6d1673"
   },
   "outputs": [
    {
     "data": {
      "image/png": "[encoded data removed]",
      "text/plain": [
       "<Figure size 596.25x500 with 1 Axes>"
      ]
     },
     "metadata": {},
     "output_type": "display_data"
    }
   ],
   "source": [
    "from matplotlib.patches import Ellipse\n",
    "transformed_patients = pd.DataFrame(data=z,columns=[\"Latent Variable 1\",\"Latent Variable 2\"],index=list(lusc.columns) + list(luad.columns))\n",
    "transformed_patients[\"Set\"]= ([\"LUSC\" for _ in lusc.columns]+[\"LUAD\" for _ in luad.columns])\n",
    "\n",
    "sns.set(rc={'figure.figsize':(10,10)})\n",
    "sns.set_style(\"white\")\n",
    "#sns.set_context(\"talk\")\n",
    "\n",
    "lm = sns.lmplot(x=\"Latent Variable 1\",y=\"Latent Variable 2\", hue='Set', data=transformed_patients, fit_reg=False)\n",
    "#for x, y, (w, h) in zip(transformed_patients[\"Latent Variable 1\"], transformed_patients[\"Latent Variable 2\"], std):\n",
    "#    lm.axes[0, 0].add_patch(Ellipse((x,y), w, h, fc='#CCCCCC', lw=1, alpha=0.5, zorder=1))\n",
    "means={}\n",
    "for name,set_ in transformed_patients.groupby(\"Set\"):\n",
    "    means[name] = set_.mean(numeric_only=True).to_numpy()\n",
    "    plt.scatter(means[name][0],means[name][1], marker='^',s=30,c='k')"
   ]
  },
  {
   "cell_type": "markdown",
   "metadata": {
    "id": "r6WhJwTDdZIz"
   },
   "source": [
    "Here we see a quite good, but not perfect separation of the patients based on two latent variables.\n",
    "\n",
    "## Using the Decoder for generating example data\n",
    "\n",
    "Furter, we can use the network to generate \"typical\" expression profiles. We have marked the means of each sample with black triangles. We will now take these mean values of each patient group and use them as representation of each cancer type, and feed these two values for each patient group to the VAE's decoder."
   ]
  },
  {
   "cell_type": "code",
   "execution_count": 10,
   "metadata": {
    "id": "zVFzjS1bdZI0",
    "outputId": "931c26d8-c578-4a9c-c5de-2c139cdf10d1"
   },
   "outputs": [],
   "source": [
    "z_fix = torch.tensor(np.concatenate(([means[\"LUSC\"]],[means[\"LUAD\"]]), axis=0))\n",
    "\n",
    "z_fix = z_fix.to(device)\n",
    "x_fix = model.decode(z_fix).cpu().detach().numpy()\n",
    "predicted = pd.DataFrame(data=x_fix.T, index=combined.index, columns=[\"LUSC\", \"LUAD\"])"
   ]
  },
  {
   "cell_type": "markdown",
   "metadata": {
    "id": "6JxtZLn6dZI1"
   },
   "source": [
    "Using these generated profiles we may for instance identify the genes most differential between the generated LUSC and LUAD sample. "
   ]
  },
  {
   "cell_type": "code",
   "execution_count": 11,
   "metadata": {
    "id": "rdGnIpvgdZI1",
    "outputId": "3fcf9449-bfea-443c-d2fc-179054e1c906"
   },
   "outputs": [],
   "source": [
    "predicted[\"diff\"] = predicted[\"LUSC\"] - predicted[\"LUAD\"]\n",
    "# predicted.sort_values(by='diff', ascending=False, inplace = True)"
   ]
  },
  {
   "cell_type": "markdown",
   "metadata": {
    "id": "qKnwZ3DUdZI1"
   },
   "source": [
    "The genes pointing in a negative direction for the two components are:"
   ]
  },
  {
   "cell_type": "code",
   "execution_count": 12,
   "metadata": {
    "id": "ORn2eerZdZI2",
    "outputId": "34a12ca0-4017-4d0f-afde-b5bca0b22e50"
   },
   "outputs": [
    {
     "data": {
      "text/plain": [
       "'GNA14'"
      ]
     },
     "execution_count": 12,
     "metadata": {},
     "output_type": "execute_result"
    }
   ],
   "source": [
    "predicted[\"diff\"].idxmin(axis=0)"
   ]
  },
  {
   "cell_type": "code",
   "execution_count": 13,
   "metadata": {},
   "outputs": [
    {
     "data": {
      "text/plain": [
       "'S1PR5'"
      ]
     },
     "execution_count": 13,
     "metadata": {},
     "output_type": "execute_result"
    }
   ],
   "source": [
    "predicted[\"diff\"].idxmax(axis=0)"
   ]
  },
  {
   "cell_type": "markdown",
   "metadata": {
    "id": "7-OJDYaFdZI2"
   },
   "source": [
    "Here these two genes seems to be the largest differentiators beteen the genes in LUSC and LUAD. We can also note that as before, the Gene KRT17 seems quite different between the cancer types:"
   ]
  },
  {
   "cell_type": "code",
   "execution_count": 14,
   "metadata": {
    "id": "SZ4Mo7rVdZI2"
   },
   "outputs": [
    {
     "data": {
      "text/plain": [
       "LUSC    0.773740\n",
       "LUAD    0.484323\n",
       "diff    0.289417\n",
       "Name: KRT17, dtype: float32"
      ]
     },
     "execution_count": 14,
     "metadata": {},
     "output_type": "execute_result"
    }
   ],
   "source": [
    "predicted.loc[\"KRT17\"]"
   ]
  },
  {
   "cell_type": "code",
   "execution_count": 15,
   "metadata": {},
   "outputs": [],
   "source": [
    "# transformed_patients[transformed_patients[\"Set\"]==\"LUSC\"][transformed_patients[\"Latent Variable 2\"] < -4.]"
   ]
  }
 ],
 "metadata": {
  "colab": {
   "collapsed_sections": [],
   "provenance": [
    {
     "file_id": "https://github.com/statisticalbiotechnology/cb2030/blob/master/nb/pca/PCAofCarcinomas.ipynb",
     "timestamp": 1666187194313
    }
   ]
  },
  "kernelspec": {
   "display_name": "Python 3.10.6 64-bit",
   "language": "python",
   "name": "python3"
  },
  "language_info": {
   "codemirror_mode": {
    "name": "ipython",
    "version": 3
   },
   "file_extension": ".py",
   "mimetype": "text/x-python",
   "name": "python",
   "nbconvert_exporter": "python",
   "pygments_lexer": "ipython3",
   "version": "3.10.6"
  },
  "vscode": {
   "interpreter": {
    "hash": "31f2aee4e71d21fbe5cf8b01ff0e069b9275f58929596ceb00d14d90e3e16cd6"
   }
  }
 },
 "nbformat": 4,
 "nbformat_minor": 4
}
