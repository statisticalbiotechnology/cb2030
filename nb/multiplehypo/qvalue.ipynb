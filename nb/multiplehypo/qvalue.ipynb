{
 "cells": [
  {
   "cell_type": "markdown",
   "metadata": {},
   "source": [
    "## $q$ Value calculations in breast cancer set\n",
    "\n",
    "This notebook can be run locally or on a remote cloud computer by clicking the badge below:\n",
    "\n",
    "[![Binder](https://mybinder.org/badge_logo.svg)](https://mybinder.org/v2/gh/statisticalbiotechnology/cb2030/master?filepath=nb%2Fmultiplehypo%2Fqvalue.ipynb) or [![CoLab](https://colab.research.google.com/assets/colab-badge.svg)](https://colab.research.google.com/github/statisticalbiotechnology/cb2030/blob/master/nb/multiplehypo/qvalue.ipynb)"
   ]
  },
  {
   "cell_type": "markdown",
   "metadata": {},
   "source": [
    "### Differential expression analysis\n",
    "\n",
    "This notebook continues from where the previous notebook on [hypothesis testing](../testing/readme) ended.\n",
    "\n",
    "We would like to compare so called tripple negative cancers with other cancers. A breast cancer is triple negative when it does not express either [Progesterone receptors](https://en.wikipedia.org/wiki/Progesterone_receptor), [Estrogen receptors](https://en.wikipedia.org/wiki/Estrogen_receptor) or [Epidermal growth factor receptor 2](https://en.wikipedia.org/wiki/HER2/neu). Such cancers are known to behave different than other cancers, and are not amendable to regular [hormonal theraphies](https://en.wikipedia.org/wiki/Hormonal_therapy_(oncology)) in the TCGA breast cancer data set.\n",
    "\n",
    "We first recreate the steps of the previous notebook."
   ]
  },
  {
   "cell_type": "code",
   "execution_count": null,
   "metadata": {},
   "outputs": [],
   "source": [
    "import pandas as pd\n",
    "import seaborn as sns\n",
    "import numpy as np\n",
    "from scipy.stats import ttest_ind\n",
    "import sys\n",
    "IN_COLAB = 'google.colab' in sys.modules\n",
    "if IN_COLAB:\n",
    "    ![ ! -f \"cb2030/README.md\" ] && git clone https://github.com/statisticalbiotechnology/cb2030.git\n",
    "    my_path = \"cb2030/nb/\"\n",
    "else:\n",
    "    my_path = \"../\"\n",
    "sys.path.append(my_path) # Read local modules for tcga access and qvalue calculations\n",
    "\n",
    "import tcga_read as tcga\n",
    "import qvalue\n",
    "\n",
    "brca = tcga.get_expression_data(my_path + \"../data/brca.tsv.gz\", 'https://cbioportal-datahub.s3.amazonaws.com/brca_tcga_pub2015.tar.gz',\"data_RNA_Seq_v2_expression_median.txt\")\n",
    "brca_clin = tcga.get_clinical_data(my_path + \"../data/brca_clin.tsv.gz\", 'https://cbioportal-datahub.s3.amazonaws.com/brca_tcga_pub2015.tar.gz',\"data_clinical_sample.txt\")\n",
    "\n",
    "brca.dropna(axis=0, how='any', inplace=True)\n",
    "brca = brca.loc[~(brca<=0.0).any(axis=1)]\n",
    "brca = pd.DataFrame(data=np.log2(brca),index=brca.index,columns=brca.columns)\n",
    "brca_clin.loc[\"3N\"]= (brca_clin.loc[\"PR status by ihc\"]==\"Negative\") & (brca_clin.loc[\"ER Status By IHC\"]==\"Negative\") & (brca_clin.loc[\"IHC-HER2\"]==\"Negative\")\n",
    "tripple_negative_bool = (brca_clin.loc[\"3N\"] == True)\n",
    "def get_significance_two_groups(row):\n",
    "    log_fold_change = row[tripple_negative_bool].mean() - row[~tripple_negative_bool].mean() # Calculate the log Fold Change\n",
    "    p = ttest_ind(row[tripple_negative_bool],row[~tripple_negative_bool],equal_var=False)[1] # Calculate the significance\n",
    "    return [p,-np.log10(p),log_fold_change]\n",
    "\n",
    "pvalues = brca.apply(get_significance_two_groups,axis=1,result_type=\"expand\")\n",
    "pvalues.rename(columns = {list(pvalues)[0]: 'p', list(pvalues)[1]: '-log_p', list(pvalues)[2]: 'log_FC'}, inplace = True)\n"
   ]
  },
  {
   "cell_type": "markdown",
   "metadata": {},
   "source": [
    "When plotting the $p$ value distribution below, we see an enrichment of low p values. These are the tests of the genes that adhere to the alternative hypothesis. We also see a uniform distribution of the $p$ values in the higher end of the distribution i.e. $p$ values of 0.3-1.0. These are likely steming from genes adhering to $H_0$"
   ]
  },
  {
   "cell_type": "code",
   "execution_count": null,
   "metadata": {},
   "outputs": [],
   "source": [
    "import matplotlib.pyplot as plt\n",
    "plt.figure(figsize=(12, 8))\n",
    "sns.histplot(x=pvalues[\"p\"],kde=False)\n",
    "plt.xlim(0,1.0);"
   ]
  },
  {
   "cell_type": "markdown",
   "metadata": {},
   "source": [
    "### $q$ value esitmation\n",
    "We define a function for the palculation of $\\pi_0$. Here we use a different method than the one described in Storey&Tibshirani. The details of this method, known as the *bootstrap method*, are given in [Storey 2002](https://rss.onlinelibrary.wiley.com/doi/full/10.1111/1467-9868.00346)"
   ]
  },
  {
   "cell_type": "code",
   "execution_count": null,
   "metadata": {},
   "outputs": [],
   "source": [
    "import numpy as np\n",
    "import numpy.random as npr\n",
    "\n",
    "def bootstrap(invec):\n",
    "    idx = npr.randint(0, len(invec), len(invec))\n",
    "    return [invec[i] for i in idx]\n",
    "\n",
    "def estimatePi0(p, numBoot=100, numLambda=100, maxLambda=0.95):\n",
    "    p.sort()\n",
    "    n=len(p)\n",
    "    lambdas=np.linspace(maxLambda/numLambda,maxLambda,numLambda)\n",
    "    Wls=np.array([n-np.argmax(p>=l) for l in lambdas])\n",
    "    pi0s=np.array([Wls[i] / (n * (1 - lambdas[i])) for i in range(numLambda)])\n",
    "    minPi0=np.min(pi0s)\n",
    "    mse = np.zeros(numLambda)\n",
    "    for boot in range(numBoot):\n",
    "        pBoot = bootstrap(p)\n",
    "        pBoot.sort()\n",
    "        WlsBoot =np.array([n-np.argmax(pBoot>=l) for l in lambdas])\n",
    "        pi0sBoot =np.array([WlsBoot[i] / (n *(1 - lambdas[i])) for i in range(numLambda)])\n",
    "        mse = mse + np.square(pi0sBoot-minPi0)\n",
    "    minIx = np.argmin(mse)\n",
    "    return pi0s[minIx]"
   ]
  },
  {
   "cell_type": "markdown",
   "metadata": {},
   "source": [
    "We subsequently use Storey&Tibshirani to calculate first calculate \n",
    "$$ \n",
    "\\hat{\\rm FDR}(t) = \\frac{\\pi_0mp}{|\\{p_i\\le t\\}|}\n",
    "$$\n",
    "and then smooth the $\\rm FDR(t)$ estimates as $$\\hat{q}(p_i)=min_{t \\ge p_i}\\hat{\\rm FDR}(t)$$"
   ]
  },
  {
   "cell_type": "code",
   "execution_count": null,
   "metadata": {},
   "outputs": [],
   "source": [
    "def qvalues(pvalues):\n",
    "    m = pvalues.shape[0] # The number of p-values\n",
    "    pvalues.sort_values(\"p\",inplace=True) # sort the pvalues in acending order\n",
    "    pi0 = estimatePi0(list(pvalues[\"p\"].values))\n",
    "    print(\"pi_0 estimated to \" + str(pi0))\n",
    "    \n",
    "    # calculate a FDR(t) as in Storey & Tibshirani\n",
    "    num_p = 0.0\n",
    "    for ix in pvalues.index:\n",
    "        num_p += 1.0\n",
    "        t = pvalues.loc[ix,\"p\"]\n",
    "        fdr = pi0*t*m/num_p\n",
    "        pvalues.loc[ix,\"q\"] = fdr\n",
    "        pi0_hat = (m-num_p)/(m*(1-t))\n",
    "        pvalues.loc[ix,\"pi0_hat\"] = pi0_hat\n",
    "    \n",
    "    # calculate a q(p) as the minimal FDR(t)\n",
    "    old_q=1.0\n",
    "    for ix in reversed(list(pvalues.index)):\n",
    "        q = min(old_q,pvalues.loc[ix,\"q\"])\n",
    "        old_q = q\n",
    "        pvalues.loc[ix,\"q\"] = q\n",
    "    return pvalues"
   ]
  },
  {
   "cell_type": "code",
   "execution_count": null,
   "metadata": {},
   "outputs": [],
   "source": [
    "qv = qvalues(pvalues)"
   ]
  },
  {
   "cell_type": "markdown",
   "metadata": {},
   "source": [
    "We note a very low $\\pi_0$ indicating that about 80\\% of all genes are differentially expressed in the tripple negative cancers. This is maybe not only reflects the different biology of tripple negative cancers, but might also relate to differencees in sample handlig or normalization of data.\n",
    "\n",
    "We can list the differntial genes, in descending order of significance."
   ]
  },
  {
   "cell_type": "code",
   "execution_count": null,
   "metadata": {},
   "outputs": [],
   "source": [
    "qv"
   ]
  },
  {
   "cell_type": "markdown",
   "metadata": {},
   "source": [
    "## Displaying number of findings as a function of $q$ value (a $p$-$q$ plot)\n",
    "A plot of the number of differentially expressed genes as a function of $q$ value gives the same message."
   ]
  },
  {
   "cell_type": "code",
   "execution_count": null,
   "metadata": {},
   "outputs": [],
   "source": [
    "sns.lineplot(x=pvalues[\"q\"],y=list(range(pvalues.shape[0])),ci=None,lw=3)\n",
    "plt.xlim(0,0.1);\n",
    "plt.ylim();\n",
    "plt.ylabel(\"Number of differential genes\");"
   ]
  },
  {
   "cell_type": "markdown",
   "metadata": {},
   "source": [
    "## Volcano plots revisited\n",
    "We often see that Volcano plots are complemented with FDR tresholds. Here we complement the previous lecture's volcano plot with coloring indicating if transcripts are significantly differentially abundant at a FDR-treshhold of $10^{-10}$."
   ]
  },
  {
   "cell_type": "code",
   "execution_count": null,
   "metadata": {},
   "outputs": [],
   "source": [
    "qv[\"Significant\"] = qv[\"q\"]<1e-10\n",
    "less_than_FDR_10 = qv[qv[\"q\"]<1e-10]\n",
    "p_treshold = float(less_than_FDR_10.iloc[-1:][\"-log_p\"].values)"
   ]
  },
  {
   "cell_type": "code",
   "execution_count": null,
   "metadata": {},
   "outputs": [],
   "source": [
    "import matplotlib.pyplot as plt\n",
    "import seaborn as sns\n",
    "\n",
    "sns.set_style(\"white\")\n",
    "sns.set_context(\"talk\")\n",
    "ax = sns.relplot(data=pvalues,x=\"log_FC\",y=\"-log_p\",hue=\"Significant\",aspect=1.5,height=6)\n",
    "plt.axhline(p_treshold)\n",
    "#sns.lineplot([-6,4],[p_treshold,p_treshold],ax=ax)\n",
    "ax.set(xlabel=\"$log_2(TN/not TN)$\", ylabel=\"$-log_{10}(p)$\");"
   ]
  },
  {
   "cell_type": "markdown",
   "metadata": {},
   "source": [
    "Again it should be noted that the large number of differential transcripts maybe not only reflects the different biology of tripple negative cancers, but might also relate to differencees in sample handlig or normalization of data."
   ]
  },
  {
   "cell_type": "markdown",
   "metadata": {},
   "source": [
    "## Spline estimation of $\\pi_0$\n",
    "\n",
    "Storey and Tibshirani outlines an other procedure for estimating $\\pi_0$ than the bootstrap procedure used above, i.e. using \n",
    "$$\\hat{\\pi_0}(\\lambda) = \\frac{|\\{p>\\lambda \\}|}{m(1-\\lambda)}$$.\n",
    "\n",
    "Below, we almost follow the article's described procedure (please try to find the difference on how we select which lambdas we evaluate). Furthermore we fit a [qubic spline](https://en.wikipedia.org/wiki/Smoothing_spline) to these $\\pi_0$ estimates.\n"
   ]
  },
  {
   "cell_type": "code",
   "execution_count": null,
   "metadata": {},
   "outputs": [],
   "source": [
    "from scipy.interpolate import UnivariateSpline\n",
    "\n",
    "m = pvalues.shape[0] # The number of p-values\n",
    "pvalues.sort_values(\"p\",inplace=True,ascending=False) # sort the pvalues in decending order\n",
    "num_p = -1\n",
    "for ix in pvalues.index:\n",
    "    num_p += 1\n",
    "    lambda_p = pvalues.loc[ix,\"p\"]\n",
    "    pi0_hat = num_p/(m*(1-lambda_p))\n",
    "    pvalues.loc[ix,\"pi0_hat\"] = pi0_hat\n",
    "\n",
    "pvalues.sort_values(\"p\",inplace=True) # sort the pvalues in ascending order\n",
    "s = UnivariateSpline(pvalues[\"p\"],pvalues[\"pi0_hat\"], k=3,s=10)\n"
   ]
  },
  {
   "cell_type": "markdown",
   "metadata": {},
   "source": [
    "We plot the estimates (blue) as well as the spline fit (red) for two different intevalls of $\\lambda$. You will see the need of a smoother, particularly in the region near 1.0."
   ]
  },
  {
   "cell_type": "code",
   "execution_count": null,
   "metadata": {},
   "outputs": [],
   "source": [
    "def plot_pi0_hat(p,s,xlow,xhigh,ylow,yhigh,ax):\n",
    "  sns.lineplot(x=pvalues[\"p\"],y=pvalues[\"pi0_hat\"],ci=None,lw=3, ax=ax, color='b')\n",
    "  sns.lineplot(x=pvalues[\"p\"],y=s(pvalues[\"p\"]),ci=None,lw=3,ax=ax, color='r')\n",
    "  ax.set_xlim(xlow,xhigh);\n",
    "  ax.set_ylim(ylow,yhigh);\n",
    "  ax.set_xlabel(\"$\\lambda $\");\n",
    "  ax.set_ylabel(\"$\\pi_0(\\lambda)$\");\n",
    "\n",
    "fig, ax = plt.subplots(1,2,figsize=(12, 4))\n",
    "plot_pi0_hat(pvalues,s,0,1,0,0.6,ax[0])\n",
    "plot_pi0_hat(pvalues,s,0.95,1,0.1,0.35,ax[1])\n"
   ]
  },
  {
   "cell_type": "markdown",
   "metadata": {},
   "source": [
    "We can obtain a final estimate by evaluating the spline for $\\lambda=1$, and compare the it to the bootstrapping estimate. "
   ]
  },
  {
   "cell_type": "code",
   "execution_count": null,
   "metadata": {},
   "outputs": [],
   "source": [
    "print(\"Spline estimate of pi_0: \" + str(s(1)))\n",
    "print(\"Bootstrap estimate of pi_0: \" + str(estimatePi0(list(pvalues[\"p\"].values))))"
   ]
  },
  {
   "cell_type": "code",
   "execution_count": null,
   "metadata": {},
   "outputs": [],
   "source": []
  }
 ],
 "metadata": {
  "kernelspec": {
   "display_name": "Python 3 (ipykernel)",
   "language": "python",
   "name": "python3"
  },
  "language_info": {
   "codemirror_mode": {
    "name": "ipython",
    "version": 3
   },
   "file_extension": ".py",
   "mimetype": "text/x-python",
   "name": "python",
   "nbconvert_exporter": "python",
   "pygments_lexer": "ipython3",
   "version": "3.10.13"
  }
 },
 "nbformat": 4,
 "nbformat_minor": 4
}
