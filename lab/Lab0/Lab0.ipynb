{
 "cells": [
  {
   "cell_type": "markdown",
   "metadata": {},
   "source": [
    "[![CoLab](https://colab.research.google.com/assets/colab-badge.svg)](https://colab.research.google.com/github/https://nbviewer.jupyter.org/github/statisticalbiotechnology/cb2030/blob/master/nb/lab/Lab0.ipynb)\n"
   ]
  },
  {
   "cell_type": "code",
   "execution_count": null,
   "metadata": {},
   "outputs": [],
   "source": [
    "import pandas as pd\n",
    "import numpy as np\n",
    "import scipy as sp\n",
    "import seaborn as sns\n",
    "import matplotlib.pyplot as plt\n",
    "\n",
    "from ipywidgets import interact, interact_manual, IntSlider, FloatSlider, Dropdown, Text\n",
    "\n",
    "import gseapy as gp\n",
    "import sklearn as skl\n",
    "\n",
    "import networkx\n",
    "import statsmodels\n",
    "\n",
    "import cobra\n",
    "import escher"
   ]
  },
  {
   "cell_type": "markdown",
   "metadata": {},
   "source": [
    "The cell above loads all the necessary packages for all the labs. If you executed it without error, you are all set :)\n",
    "\n",
    "# Introduction to Jupyter Notebooks\n",
    "\n",
    "A Notebook is devided into **cells**. Each cell can be either a text (like this one) or contain *python* code.\n",
    "\n",
    "Running a text cell won't change much, the most it does it make it look pretty. But running a code cell, will execute the code in it, and output the results. Code cells are marked with `In [ ]`, for input. \n",
    "\n",
    "You have two options for running cells. After you select it, you can either click the [**&#9658; Run**] button on the top bar, or by pressing **Ctrl + Enter** on the keyboard.\n",
    "\n",
    "Try running the cell below."
   ]
  },
  {
   "cell_type": "code",
   "execution_count": null,
   "metadata": {},
   "outputs": [],
   "source": [
    "print('Did this work?')"
   ]
  },
  {
   "cell_type": "markdown",
   "metadata": {},
   "source": [
    "Great, that hopefully worked. \n",
    "\n",
    "You shoudn't be afraid of getting your hands dirty and changing the code. If you made a mistake, you can undo the changes by selecting the cell and using **[Ctrl + z]**, or in the worst case senario, you can always download the notebook again. The best way to learn how this all works is by changing the code and seeing what happens!\n",
    "\n",
    "\n",
    "**Now try changing the code to make it print something more appropriate** :)\n",
    "\n",
    "---\n",
    "\n",
    "Not every code has has an output. Some code will only load packages, data or functions and keep them in memory for a later use.\n",
    "An example is the next cell, all the code below does is define a function that we will use later.\n",
    "\n",
    "Let's run it.\n"
   ]
  },
  {
   "cell_type": "code",
   "execution_count": null,
   "metadata": {},
   "outputs": [],
   "source": [
    "def cumulative_sum(n):\n",
    "    sum = 0;\n",
    "    for i in range(n+1):\n",
    "        sum = sum + i\n",
    "    return sum"
   ]
  },
  {
   "cell_type": "markdown",
   "metadata": {},
   "source": [
    "If you provide the function above with a number $n$ as an input, it calculates the sum of all the numbers from 1 to $n$. And now that function is stored for future use.\n",
    "\n",
    "Let's test it."
   ]
  },
  {
   "cell_type": "code",
   "execution_count": null,
   "metadata": {},
   "outputs": [],
   "source": [
    "cumulative_sum(5)"
   ]
  },
  {
   "cell_type": "markdown",
   "metadata": {},
   "source": [
    "**Now try to use it to calculate the sum of all the numbers from 1 to 20.**\n",
    "\n",
    "---\n",
    "\n",
    "Another type ou output a cell can have is a plot.\n",
    "You will be using plots a lot on the next few labs to help you understand the theory and analysis. \n",
    "\n",
    "The next cell will plot a sine wave\n",
    "$$ y = \\sin(t) $$\n",
    "Try it :)"
   ]
  },
  {
   "cell_type": "code",
   "execution_count": null,
   "metadata": {},
   "outputs": [],
   "source": [
    "time = np.arange(0, 10, 0.1)\n",
    "amplitude = np.sin(time)\n",
    "\n",
    "plt.plot(time, amplitude)\n",
    "plt.title('Sine wave')\n",
    "plt.xlabel('Time')\n",
    "plt.ylabel('Amplitude')"
   ]
  },
  {
   "cell_type": "markdown",
   "metadata": {},
   "source": [
    "Look at that beautiful plot! :)\n",
    "\n",
    "**Now try changing some features of the plot. Maybe title, increase the time span or even the color.**\n",
    "\n",
    "---\n",
    "\n",
    "One final useful thing to talk about are the interactive elements. We will use it in some labs to make it easier for you to interact with the code, without actually having to change a line of code. \n",
    "\n",
    "Let's see how it is, run the next cell, and see if you can get your desired plot."
   ]
  },
  {
   "cell_type": "code",
   "execution_count": null,
   "metadata": {},
   "outputs": [],
   "source": [
    "import matplotlib.colors as mcolors\n",
    "\n",
    "def interactive_sine(Title, Time_span, Color):\n",
    "    time = np.arange(0, Time_span, 0.1)\n",
    "    amplitude = np.sin(time)\n",
    "    plt.plot(time, amplitude, color = Color)\n",
    "    plt.title(Title)\n",
    "    plt.xlabel('Time')\n",
    "    plt.ylabel('Amplitude')\n",
    "    \n",
    "interact_plot=interact_manual.options(manual_name=\"Plot\")\n",
    "interact_plot(interactive_sine, Title = Text('Title'), Time_span = FloatSlider(min=1,max=100,value=1), Color = list(mcolors.TABLEAU_COLORS))"
   ]
  },
  {
   "cell_type": "markdown",
   "metadata": {},
   "source": [
    "I hope you found this useful, we will be using it a lot on the next Labs\n",
    "\n",
    "This concludes the introduction to Jupyter notebooks.\n",
    "Here we have only explored their basic funcionality, but notebooks are a very powerful tool and one of the most used for performing data analysis and a very important tool for **reproducible science**.\n",
    "\n",
    "We encourage you to investigate the tool further, but this should give you enough infomation to run the class and lab notebooks.\n",
    "\n",
    "# A note on the next labs\n",
    "\n",
    "* There are 4 labs in the course\n",
    "* They should be done in pairs. Submit one report per pair, writing the name of both members in the report.\n",
    "* The labs (specially lab 1 and 2) are long. Although it is not necessary, you would benefit to look at them before the lab session, as so to make better use of the help from the TAs during the session.\n",
    "* All labs have a bonus part. These are indeed bonuses and are meant to be more involved, requiring a bigger commitment. You are not expected to finish the bonus questions during the lab sessions.\n",
    "\n",
    "\n",
    "\n",
    "\n",
    "\n",
    "\n"
   ]
  }
 ],
 "metadata": {
  "kernelspec": {
   "display_name": "Python 3",
   "language": "python",
   "name": "python3"
  },
  "language_info": {
   "codemirror_mode": {
    "name": "ipython",
    "version": 3
   },
   "file_extension": ".py",
   "mimetype": "text/x-python",
   "name": "python",
   "nbconvert_exporter": "python",
   "pygments_lexer": "ipython3",
   "version": "3.6.9"
  }
 },
 "nbformat": 4,
 "nbformat_minor": 4
}
